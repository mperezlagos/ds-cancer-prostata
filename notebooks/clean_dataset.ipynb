{
 "cells": [
  {
   "cell_type": "code",
   "execution_count": 2,
   "metadata": {},
   "outputs": [
    {
     "name": "stdout",
     "output_type": "stream",
     "text": [
      "<class 'pandas.core.frame.DataFrame'>\n",
      "RangeIndex: 870 entries, 0 to 869\n",
      "Columns: 121 entries, IDPACIENTE to DIAS_HASTA_INICIO_TRATAMIENTO\n",
      "dtypes: float64(24), int64(5), object(92)\n",
      "memory usage: 822.5+ KB\n"
     ]
    },
    {
     "data": {
      "text/plain": [
       "(         IDPACIENTE       IDTUMOR  FECHA_COMITE  INTERVALO_INGRESO_DIAGNO  \\\n",
       " count    870.000000    870.000000           0.0                870.000000   \n",
       " mean   27910.850575  25382.272414           NaN               -135.877011   \n",
       " std     5536.667455   3749.857476           NaN                289.603049   \n",
       " min     1646.000000  16920.000000           NaN              -1607.000000   \n",
       " 25%    24087.500000  22280.250000           NaN               -211.000000   \n",
       " 50%    28002.500000  25178.500000           NaN               -108.000000   \n",
       " 75%    31985.250000  27650.750000           NaN                  6.750000   \n",
       " max    37144.000000  33121.000000           NaN               3060.000000   \n",
       " \n",
       "        COD_TOPOLOGIA  LINFOMA  FIGO  FIGO_LETRA  TNM_3  SUBTIPO  ...  \\\n",
       " count          870.0      0.0   0.0         0.0    0.0    870.0  ...   \n",
       " mean            61.0      NaN   NaN         NaN    NaN      0.0  ...   \n",
       " std              0.0      NaN   NaN         NaN    NaN      0.0  ...   \n",
       " min             61.0      NaN   NaN         NaN    NaN      0.0  ...   \n",
       " 25%             61.0      NaN   NaN         NaN    NaN      0.0  ...   \n",
       " 50%             61.0      NaN   NaN         NaN    NaN      0.0  ...   \n",
       " 75%             61.0      NaN   NaN         NaN    NaN      0.0  ...   \n",
       " max             61.0      NaN   NaN         NaN    NaN      0.0  ...   \n",
       " \n",
       "        FECHA_TERMINO_TRATAMIENTO_9  FECHA_TERMINO_TRATAMIENTO_10  \\\n",
       " count                          0.0                           0.0   \n",
       " mean                           NaN                           NaN   \n",
       " std                            NaN                           NaN   \n",
       " min                            NaN                           NaN   \n",
       " 25%                            NaN                           NaN   \n",
       " 50%                            NaN                           NaN   \n",
       " 75%                            NaN                           NaN   \n",
       " max                            NaN                           NaN   \n",
       " \n",
       "        TIPO_TRATAMIENTO_8  TIPO_TRATAMIENTO_9  TIPO_TRATAMIENTO_10  \\\n",
       " count                 0.0                 0.0                  0.0   \n",
       " mean                  NaN                 NaN                  NaN   \n",
       " std                   NaN                 NaN                  NaN   \n",
       " min                   NaN                 NaN                  NaN   \n",
       " 25%                   NaN                 NaN                  NaN   \n",
       " 50%                   NaN                 NaN                  NaN   \n",
       " 75%                   NaN                 NaN                  NaN   \n",
       " max                   NaN                 NaN                  NaN   \n",
       " \n",
       "        OBSERVACION_TRATAMIENTO_7  OBSERVACION_TRATAMIENTO_8  \\\n",
       " count                        0.0                        0.0   \n",
       " mean                         NaN                        NaN   \n",
       " std                          NaN                        NaN   \n",
       " min                          NaN                        NaN   \n",
       " 25%                          NaN                        NaN   \n",
       " 50%                          NaN                        NaN   \n",
       " 75%                          NaN                        NaN   \n",
       " max                          NaN                        NaN   \n",
       " \n",
       "        OBSERVACION_TRATAMIENTO_9  OBSERVACION_TRATAMIENTO_10  \\\n",
       " count                        0.0                         0.0   \n",
       " mean                         NaN                         NaN   \n",
       " std                          NaN                         NaN   \n",
       " min                          NaN                         NaN   \n",
       " 25%                          NaN                         NaN   \n",
       " 50%                          NaN                         NaN   \n",
       " 75%                          NaN                         NaN   \n",
       " max                          NaN                         NaN   \n",
       " \n",
       "        DIAS_HASTA_INICIO_TRATAMIENTO  \n",
       " count                     870.000000  \n",
       " mean                      252.203448  \n",
       " std                       247.576699  \n",
       " min                         0.000000  \n",
       " 25%                       111.250000  \n",
       " 50%                       181.000000  \n",
       " 75%                       299.750000  \n",
       " max                      1641.000000  \n",
       " \n",
       " [8 rows x 29 columns],\n",
       " None)"
      ]
     },
     "execution_count": 2,
     "metadata": {},
     "output_type": "execute_result"
    }
   ],
   "source": [
    "import pandas as pd\n",
    "\n",
    "# Cargar el dataset\n",
    "file_path = '../data/processed/df_cancer_prostata_processed.csv'\n",
    "data = pd.read_csv(file_path)\n",
    "\n",
    "\n",
    "# Mostrar las primeras filas y un resumen de los datos\n",
    "data.describe(), data.info()\n"
   ]
  },
  {
   "cell_type": "code",
   "execution_count": 3,
   "metadata": {},
   "outputs": [
    {
     "data": {
      "text/plain": [
       "TIPO_TERAPIA_10                  100.0\n",
       "FECHA_TERMINO_TRATAMIENTO_10     100.0\n",
       "TIPO_TRATAMIENTO_8               100.0\n",
       "FECHA_COMITE                     100.0\n",
       "FECHA_TERMINO_TRATAMIENTO_8      100.0\n",
       "                                 ...  \n",
       "EXTENSION_NOM                      0.0\n",
       "NOM_COMPORTAMIENTO                 0.0\n",
       "MORFO_COMPLETA                     0.0\n",
       "COD_CIE10                          0.0\n",
       "DIAS_HASTA_INICIO_TRATAMIENTO      0.0\n",
       "Length: 121, dtype: float64"
      ]
     },
     "execution_count": 3,
     "metadata": {},
     "output_type": "execute_result"
    }
   ],
   "source": [
    "# Calcular el porcentaje de valores faltantes por columna\n",
    "missing_data = data.isnull().mean() * 100\n",
    "\n",
    "# Mostrar las columnas con el porcentaje de valores faltantes\n",
    "missing_data.sort_values(ascending=False)\n"
   ]
  },
  {
   "cell_type": "markdown",
   "metadata": {},
   "source": [
    "Algunas columnas en el dataset tienen un 100% de valores faltantes, lo que significa que no contienen información útil y podrían ser eliminadas. Vamos a eliminar todas las columnas que tienen un porcentaje de valores faltantes superior al 90%, ya que no aportarán mucho al análisis. Posteriormente, revisaremos cómo manejar las demás columnas con valores faltantes.\n",
    "\n"
   ]
  },
  {
   "cell_type": "code",
   "execution_count": 4,
   "metadata": {},
   "outputs": [
    {
     "name": "stdout",
     "output_type": "stream",
     "text": [
      "<class 'pandas.core.frame.DataFrame'>\n",
      "RangeIndex: 870 entries, 0 to 869\n",
      "Data columns (total 69 columns):\n",
      " #   Column                         Non-Null Count  Dtype  \n",
      "---  ------                         --------------  -----  \n",
      " 0   IDPACIENTE                     870 non-null    int64  \n",
      " 1   IDTUMOR                        870 non-null    int64  \n",
      " 2   SEXO                           870 non-null    object \n",
      " 3   FEC_NACIMIENTO                 870 non-null    object \n",
      " 4   PREVISION                      870 non-null    object \n",
      " 5   RELIGION                       869 non-null    object \n",
      " 6   ETNIA                          870 non-null    object \n",
      " 7   ZONA_VIVIENDA                  866 non-null    object \n",
      " 8   COMUNA                         870 non-null    object \n",
      " 9   REGION                         870 non-null    object \n",
      " 10  SSREFERENCIA                   870 non-null    object \n",
      " 11  RECINTO_PROCEDE                870 non-null    object \n",
      " 12  ESTABLE_DESTINO                869 non-null    object \n",
      " 13  ACT_LABORAL                    870 non-null    object \n",
      " 14  ACT_EMPRESA                    870 non-null    object \n",
      " 15  SITUACION_LABORAL              863 non-null    object \n",
      " 16  ULT_CURSO_APROBADO             866 non-null    object \n",
      " 17  CANCER_PREVIO_1                870 non-null    object \n",
      " 18  CANCER_PREVIO_2                869 non-null    object \n",
      " 19  PARENTESCO_1                   870 non-null    object \n",
      " 20  CANCER_PARENTESCO_1            869 non-null    object \n",
      " 21  PARENTESCO_2                   869 non-null    object \n",
      " 22  CANCER_PARENTESCO_2            869 non-null    object \n",
      " 23  PARENTESCO3                    869 non-null    object \n",
      " 24  CANCER_PARENTESCO3             869 non-null    object \n",
      " 25  FEC_INGRESO_CASO               870 non-null    object \n",
      " 26  FEC_DIAGNO                     870 non-null    object \n",
      " 27  INTERVALO_INGRESO_DIAGNO       870 non-null    float64\n",
      " 28  FEC_TOM_MUESTRA                870 non-null    object \n",
      " 29  TIPO_TUMOR                     870 non-null    object \n",
      " 30  COD_TOPOLOGIA                  870 non-null    int64  \n",
      " 31  NOM_TOPOLOGIA                  870 non-null    object \n",
      " 32  COD_DET_TOPOLOGIA              870 non-null    object \n",
      " 33  NOM_DETALLE_TOPO               870 non-null    object \n",
      " 34  COD_CIE10                      870 non-null    object \n",
      " 35  MORFO_COMPLETA                 870 non-null    object \n",
      " 36  NOM_COMPORTAMIENTO             870 non-null    object \n",
      " 37  EXTENSION_NOM                  870 non-null    object \n",
      " 38  LATERALIDAD_NOM                870 non-null    object \n",
      " 39  GRADO_DIFERENCIACION           866 non-null    object \n",
      " 40  BASE_DIAGNOSTICA               870 non-null    object \n",
      " 41  TUMOR                          870 non-null    object \n",
      " 42  GRAVEDAD                       870 non-null    object \n",
      " 43  POBLACION                      870 non-null    object \n",
      " 44  ETAPA_CLINICA                  644 non-null    object \n",
      " 45  ETAPA_LETRA                    94 non-null     object \n",
      " 46  TNM_1                          637 non-null    object \n",
      " 47  SUBTIPO                        870 non-null    int64  \n",
      " 48  ESTADO_ACTUAL                  870 non-null    object \n",
      " 49  ESTADO_ACTUAL_TTO              870 non-null    object \n",
      " 50  ULTIMO_CONTACTO                870 non-null    object \n",
      " 51  ESTADO_RECH                    870 non-null    object \n",
      " 52  CLASEDECASO                    870 non-null    object \n",
      " 53  FUENTE1                        835 non-null    object \n",
      " 54  FUENTE2                        153 non-null    object \n",
      " 55  ESTADO                         870 non-null    object \n",
      " 56  INTENCION_TRATA                864 non-null    object \n",
      " 57  RESPUESTA_TRATA                868 non-null    object \n",
      " 58  TIPO_TERAPIA_1                 870 non-null    object \n",
      " 59  TIPO_TERAPIA_2                 217 non-null    object \n",
      " 60  FECHA_INICIO_TRATAMIENTO_1     870 non-null    object \n",
      " 61  FECHA_INICIO_TRATAMIENTO_2     203 non-null    object \n",
      " 62  FECHA_TERMINO_TRATAMIENTO_1    799 non-null    object \n",
      " 63  FECHA_TERMINO_TRATAMIENTO_2    175 non-null    object \n",
      " 64  TIPO_TRATAMIENTO_1             870 non-null    object \n",
      " 65  TIPO_TRATAMIENTO_2             217 non-null    object \n",
      " 66  OBSERVACION_TRATAMIENTO_1      840 non-null    object \n",
      " 67  OBSERVACION_TRATAMIENTO_2      165 non-null    object \n",
      " 68  DIAS_HASTA_INICIO_TRATAMIENTO  870 non-null    int64  \n",
      "dtypes: float64(1), int64(5), object(63)\n",
      "memory usage: 469.1+ KB\n"
     ]
    },
    {
     "data": {
      "text/plain": [
       "(None,\n",
       " Index(['CAUSAFALLECIMIENTO', 'FECHA_CANCER_PREVIO_1', 'FECHA_CANCER_PREVIO_2',\n",
       "        'FECHA_COMITE', 'FECHA_FALLECIMIENTO', 'FECHA_INICIO_TRATAMIENTO_10',\n",
       "        'FECHA_INICIO_TRATAMIENTO_3', 'FECHA_INICIO_TRATAMIENTO_4',\n",
       "        'FECHA_INICIO_TRATAMIENTO_5', 'FECHA_INICIO_TRATAMIENTO_6',\n",
       "        'FECHA_INICIO_TRATAMIENTO_7', 'FECHA_INICIO_TRATAMIENTO_8',\n",
       "        'FECHA_INICIO_TRATAMIENTO_9', 'FECHA_TERMINO_TRATAMIENTO_10',\n",
       "        'FECHA_TERMINO_TRATAMIENTO_3', 'FECHA_TERMINO_TRATAMIENTO_4',\n",
       "        'FECHA_TERMINO_TRATAMIENTO_5', 'FECHA_TERMINO_TRATAMIENTO_6',\n",
       "        'FECHA_TERMINO_TRATAMIENTO_7', 'FECHA_TERMINO_TRATAMIENTO_8',\n",
       "        'FECHA_TERMINO_TRATAMIENTO_9', 'FIGO', 'FIGO_LETRA', 'FUENTE3',\n",
       "        'LINFOMA', 'OBSERVACION_TRATAMIENTO_10', 'OBSERVACION_TRATAMIENTO_3',\n",
       "        'OBSERVACION_TRATAMIENTO_4', 'OBSERVACION_TRATAMIENTO_5',\n",
       "        'OBSERVACION_TRATAMIENTO_6', 'OBSERVACION_TRATAMIENTO_7',\n",
       "        'OBSERVACION_TRATAMIENTO_8', 'OBSERVACION_TRATAMIENTO_9', 'RECEPTORES',\n",
       "        'TIPO_TERAPIA_10', 'TIPO_TERAPIA_3', 'TIPO_TERAPIA_4', 'TIPO_TERAPIA_5',\n",
       "        'TIPO_TERAPIA_6', 'TIPO_TERAPIA_7', 'TIPO_TERAPIA_8', 'TIPO_TERAPIA_9',\n",
       "        'TIPO_TRATAMIENTO_10', 'TIPO_TRATAMIENTO_3', 'TIPO_TRATAMIENTO_4',\n",
       "        'TIPO_TRATAMIENTO_5', 'TIPO_TRATAMIENTO_6', 'TIPO_TRATAMIENTO_7',\n",
       "        'TIPO_TRATAMIENTO_8', 'TIPO_TRATAMIENTO_9', 'TNM_2', 'TNM_3'],\n",
       "       dtype='object'))"
      ]
     },
     "execution_count": 4,
     "metadata": {},
     "output_type": "execute_result"
    }
   ],
   "source": [
    "# Eliminar columnas con más del 90% de valores faltantes\n",
    "data_cleaned = data.loc[:, (data.isnull().mean() < 0.9)]\n",
    "\n",
    "# Mostrar las columnas eliminadas y el resumen del dataset resultante\n",
    "columns_removed = data.columns.difference(data_cleaned.columns)\n",
    "data_cleaned.info(), columns_removed\n"
   ]
  },
  {
   "cell_type": "markdown",
   "metadata": {},
   "source": [
    "Hemos eliminado 52 columnas que contenían más del 90% de valores faltantes, dejando el dataset con 69 columnas. Ahora podemos concentrarnos en mejorar la calidad de las columnas restantes."
   ]
  },
  {
   "cell_type": "code",
   "execution_count": 5,
   "metadata": {},
   "outputs": [
    {
     "data": {
      "text/plain": [
       "ETAPA_LETRA                    89.195402\n",
       "FUENTE2                        82.413793\n",
       "OBSERVACION_TRATAMIENTO_2      81.034483\n",
       "FECHA_TERMINO_TRATAMIENTO_2    79.885057\n",
       "FECHA_INICIO_TRATAMIENTO_2     76.666667\n",
       "TIPO_TRATAMIENTO_2             75.057471\n",
       "TIPO_TERAPIA_2                 75.057471\n",
       "TNM_1                          26.781609\n",
       "ETAPA_CLINICA                  25.977011\n",
       "FECHA_TERMINO_TRATAMIENTO_1     8.160920\n",
       "FUENTE1                         4.022989\n",
       "OBSERVACION_TRATAMIENTO_1       3.448276\n",
       "SITUACION_LABORAL               0.804598\n",
       "INTENCION_TRATA                 0.689655\n",
       "ZONA_VIVIENDA                   0.459770\n",
       "ULT_CURSO_APROBADO              0.459770\n",
       "GRADO_DIFERENCIACION            0.459770\n",
       "RESPUESTA_TRATA                 0.229885\n",
       "ESTABLE_DESTINO                 0.114943\n",
       "CANCER_PARENTESCO3              0.114943\n",
       "PARENTESCO3                     0.114943\n",
       "CANCER_PARENTESCO_2             0.114943\n",
       "PARENTESCO_2                    0.114943\n",
       "CANCER_PARENTESCO_1             0.114943\n",
       "CANCER_PREVIO_2                 0.114943\n",
       "RELIGION                        0.114943\n",
       "dtype: float64"
      ]
     },
     "execution_count": 5,
     "metadata": {},
     "output_type": "execute_result"
    }
   ],
   "source": [
    "# Calcular nuevamente el porcentaje de valores faltantes en las columnas restantes\n",
    "missing_data_updated = data_cleaned.isnull().mean() * 100\n",
    "\n",
    "# Filtrar y mostrar columnas con valores faltantes, ordenados\n",
    "missing_data_filtered = missing_data_updated[missing_data_updated > 0].sort_values(ascending=False)\n",
    "missing_data_filtered\n"
   ]
  },
  {
   "cell_type": "code",
   "execution_count": 6,
   "metadata": {},
   "outputs": [
    {
     "name": "stdout",
     "output_type": "stream",
     "text": [
      "<class 'pandas.core.frame.DataFrame'>\n",
      "RangeIndex: 870 entries, 0 to 869\n",
      "Data columns (total 62 columns):\n",
      " #   Column                         Non-Null Count  Dtype  \n",
      "---  ------                         --------------  -----  \n",
      " 0   IDPACIENTE                     870 non-null    int64  \n",
      " 1   IDTUMOR                        870 non-null    int64  \n",
      " 2   SEXO                           870 non-null    object \n",
      " 3   FEC_NACIMIENTO                 870 non-null    object \n",
      " 4   PREVISION                      870 non-null    object \n",
      " 5   RELIGION                       869 non-null    object \n",
      " 6   ETNIA                          870 non-null    object \n",
      " 7   ZONA_VIVIENDA                  866 non-null    object \n",
      " 8   COMUNA                         870 non-null    object \n",
      " 9   REGION                         870 non-null    object \n",
      " 10  SSREFERENCIA                   870 non-null    object \n",
      " 11  RECINTO_PROCEDE                870 non-null    object \n",
      " 12  ESTABLE_DESTINO                869 non-null    object \n",
      " 13  ACT_LABORAL                    870 non-null    object \n",
      " 14  ACT_EMPRESA                    870 non-null    object \n",
      " 15  SITUACION_LABORAL              863 non-null    object \n",
      " 16  ULT_CURSO_APROBADO             866 non-null    object \n",
      " 17  CANCER_PREVIO_1                870 non-null    object \n",
      " 18  CANCER_PREVIO_2                869 non-null    object \n",
      " 19  PARENTESCO_1                   870 non-null    object \n",
      " 20  CANCER_PARENTESCO_1            869 non-null    object \n",
      " 21  PARENTESCO_2                   869 non-null    object \n",
      " 22  CANCER_PARENTESCO_2            869 non-null    object \n",
      " 23  PARENTESCO3                    869 non-null    object \n",
      " 24  CANCER_PARENTESCO3             869 non-null    object \n",
      " 25  FEC_INGRESO_CASO               870 non-null    object \n",
      " 26  FEC_DIAGNO                     870 non-null    object \n",
      " 27  INTERVALO_INGRESO_DIAGNO       870 non-null    float64\n",
      " 28  FEC_TOM_MUESTRA                870 non-null    object \n",
      " 29  TIPO_TUMOR                     870 non-null    object \n",
      " 30  COD_TOPOLOGIA                  870 non-null    int64  \n",
      " 31  NOM_TOPOLOGIA                  870 non-null    object \n",
      " 32  COD_DET_TOPOLOGIA              870 non-null    object \n",
      " 33  NOM_DETALLE_TOPO               870 non-null    object \n",
      " 34  COD_CIE10                      870 non-null    object \n",
      " 35  MORFO_COMPLETA                 870 non-null    object \n",
      " 36  NOM_COMPORTAMIENTO             870 non-null    object \n",
      " 37  EXTENSION_NOM                  870 non-null    object \n",
      " 38  LATERALIDAD_NOM                870 non-null    object \n",
      " 39  GRADO_DIFERENCIACION           866 non-null    object \n",
      " 40  BASE_DIAGNOSTICA               870 non-null    object \n",
      " 41  TUMOR                          870 non-null    object \n",
      " 42  GRAVEDAD                       870 non-null    object \n",
      " 43  POBLACION                      870 non-null    object \n",
      " 44  ETAPA_CLINICA                  644 non-null    object \n",
      " 45  TNM_1                          637 non-null    object \n",
      " 46  SUBTIPO                        870 non-null    int64  \n",
      " 47  ESTADO_ACTUAL                  870 non-null    object \n",
      " 48  ESTADO_ACTUAL_TTO              870 non-null    object \n",
      " 49  ULTIMO_CONTACTO                870 non-null    object \n",
      " 50  ESTADO_RECH                    870 non-null    object \n",
      " 51  CLASEDECASO                    870 non-null    object \n",
      " 52  FUENTE1                        835 non-null    object \n",
      " 53  ESTADO                         870 non-null    object \n",
      " 54  INTENCION_TRATA                864 non-null    object \n",
      " 55  RESPUESTA_TRATA                868 non-null    object \n",
      " 56  TIPO_TERAPIA_1                 870 non-null    object \n",
      " 57  FECHA_INICIO_TRATAMIENTO_1     870 non-null    object \n",
      " 58  FECHA_TERMINO_TRATAMIENTO_1    799 non-null    object \n",
      " 59  TIPO_TRATAMIENTO_1             870 non-null    object \n",
      " 60  OBSERVACION_TRATAMIENTO_1      840 non-null    object \n",
      " 61  DIAS_HASTA_INICIO_TRATAMIENTO  870 non-null    int64  \n",
      "dtypes: float64(1), int64(5), object(56)\n",
      "memory usage: 421.5+ KB\n"
     ]
    },
    {
     "data": {
      "text/plain": [
       "(Index(['ETAPA_LETRA', 'FUENTE2', 'OBSERVACION_TRATAMIENTO_2',\n",
       "        'FECHA_TERMINO_TRATAMIENTO_2', 'FECHA_INICIO_TRATAMIENTO_2',\n",
       "        'TIPO_TRATAMIENTO_2', 'TIPO_TERAPIA_2'],\n",
       "       dtype='object'),\n",
       " None)"
      ]
     },
     "execution_count": 6,
     "metadata": {},
     "output_type": "execute_result"
    }
   ],
   "source": [
    "# Eliminar columnas con más del 75% de valores faltantes\n",
    "columns_to_drop = missing_data_filtered[missing_data_filtered > 75].index\n",
    "data_cleaned = data_cleaned.drop(columns=columns_to_drop)\n",
    "\n",
    "# Mostrar las columnas eliminadas y la información actualizada del dataset\n",
    "columns_to_drop, data_cleaned.info()\n"
   ]
  },
  {
   "cell_type": "markdown",
   "metadata": {},
   "source": [
    "Hemos eliminado 7 columnas más con más del 75% de datos faltantes. El dataset ahora tiene 62 columnas.\n",
    "\n",
    "Para las columnas restantes con valores faltantes, usaremos diferentes estrategias de imputación dependiendo de su tipo y la cantidad de datos faltantes:\n",
    "\n",
    "* Columnas Numéricas: Podemos imputar usando la mediana para minimizar el impacto de valores extremos.\n",
    "* Columnas Categóricas: Podemos imputar usando la moda, es decir, el valor más frecuente."
   ]
  },
  {
   "cell_type": "code",
   "execution_count": 7,
   "metadata": {},
   "outputs": [
    {
     "data": {
      "text/plain": [
       "FECHA_TERMINO_TRATAMIENTO_1    0\n",
       "FUENTE1                        0\n",
       "OBSERVACION_TRATAMIENTO_1      0\n",
       "SITUACION_LABORAL              0\n",
       "INTENCION_TRATA                0\n",
       "ZONA_VIVIENDA                  0\n",
       "ULT_CURSO_APROBADO             0\n",
       "GRADO_DIFERENCIACION           0\n",
       "RESPUESTA_TRATA                0\n",
       "ESTABLE_DESTINO                0\n",
       "CANCER_PARENTESCO3             0\n",
       "PARENTESCO3                    0\n",
       "CANCER_PARENTESCO_2            0\n",
       "PARENTESCO_2                   0\n",
       "CANCER_PARENTESCO_1            0\n",
       "CANCER_PREVIO_2                0\n",
       "RELIGION                       0\n",
       "dtype: int64"
      ]
     },
     "execution_count": 7,
     "metadata": {},
     "output_type": "execute_result"
    }
   ],
   "source": [
    "from sklearn.impute import SimpleImputer\n",
    "\n",
    "# Imputador para datos categóricos (usando la moda)\n",
    "imputer_categorical = SimpleImputer(strategy='most_frequent')\n",
    "\n",
    "# Columnas categóricas con menos del 10% de datos faltantes\n",
    "categorical_columns = data_cleaned.select_dtypes(include=['object']).columns\n",
    "categorical_missing = missing_data_filtered[(missing_data_filtered > 0) & (missing_data_filtered < 10)]\n",
    "categorical_to_impute = [col for col in categorical_missing.index if col in categorical_columns]\n",
    "\n",
    "# Aplicar imputación\n",
    "data_cleaned[categorical_to_impute] = imputer_categorical.fit_transform(data_cleaned[categorical_to_impute])\n",
    "\n",
    "# Verificar que ya no hay valores faltantes en esas columnas\n",
    "data_cleaned[categorical_to_impute].isnull().sum()\n"
   ]
  }
 ],
 "metadata": {
  "kernelspec": {
   "display_name": "Python 3",
   "language": "python",
   "name": "python3"
  },
  "language_info": {
   "codemirror_mode": {
    "name": "ipython",
    "version": 3
   },
   "file_extension": ".py",
   "mimetype": "text/x-python",
   "name": "python",
   "nbconvert_exporter": "python",
   "pygments_lexer": "ipython3",
   "version": "3.9.2"
  }
 },
 "nbformat": 4,
 "nbformat_minor": 2
}
